{
 "cells": [
  {
   "cell_type": "code",
   "execution_count": 1,
   "id": "e9ceef80",
   "metadata": {},
   "outputs": [],
   "source": [
    "from bs4 import BeautifulSoup"
   ]
  },
  {
   "cell_type": "code",
   "execution_count": 2,
   "id": "169ca2b2",
   "metadata": {},
   "outputs": [],
   "source": [
    "html = '''\n",
    "    <html>\n",
    "        <head>\n",
    "        </head>\n",
    "        <body>\n",
    "            <h1> 우리동네시장</h1>\n",
    "                <div class = 'sale'>\n",
    "                    <p id='fruits1' class='fruits'>\n",
    "                        <span class = 'name'> 바나나 </span>\n",
    "                        <span class = 'price'> 3000원 </span>\n",
    "                        <span class = 'inventory'> 500개 </span>\n",
    "                        <span class = 'store'> 가나다상회 </span>\n",
    "                        <a href = 'http://bit.ly/forPlaywithData' > 홈페이지 </a>\n",
    "                    </p>\n",
    "                </div>\n",
    "                <div class = 'prepare'>\n",
    "                    <p id='fruits2' class='fruits'>\n",
    "                        <span class ='name'> 파인애플 </span>\n",
    "                    </p>\n",
    "                </div>\n",
    "        </body>\n",
    "    </html>\n",
    "'''"
   ]
  },
  {
   "cell_type": "code",
   "execution_count": 3,
   "id": "72019a92",
   "metadata": {},
   "outputs": [],
   "source": [
    "soup = BeautifulSoup(html, 'html.parser')"
   ]
  },
  {
   "cell_type": "code",
   "execution_count": 5,
   "id": "bfcd9c5c",
   "metadata": {},
   "outputs": [],
   "source": [
    "span = soup.select('span')"
   ]
  },
  {
   "cell_type": "code",
   "execution_count": 6,
   "id": "50828d23",
   "metadata": {},
   "outputs": [
    {
     "data": {
      "text/plain": [
       "(bs4.element.ResultSet,\n",
       " [<span class=\"name\"> 바나나 </span>,\n",
       "  <span class=\"price\"> 3000원 </span>,\n",
       "  <span class=\"inventory\"> 500개 </span>,\n",
       "  <span class=\"store\"> 가나다상회 </span>,\n",
       "  <span class=\"name\"> 파인애플 </span>])"
      ]
     },
     "execution_count": 6,
     "metadata": {},
     "output_type": "execute_result"
    }
   ],
   "source": [
    "type(span), span"
   ]
  },
  {
   "cell_type": "code",
   "execution_count": 7,
   "id": "10174006",
   "metadata": {},
   "outputs": [
    {
     "data": {
      "text/plain": [
       "<span class=\"name\"> 바나나 </span>"
      ]
     },
     "execution_count": 7,
     "metadata": {},
     "output_type": "execute_result"
    }
   ],
   "source": [
    "span[0]"
   ]
  },
  {
   "cell_type": "code",
   "execution_count": 8,
   "id": "f0af60b6",
   "metadata": {},
   "outputs": [
    {
     "data": {
      "text/plain": [
       "<span class=\"name\"> 파인애플 </span>"
      ]
     },
     "execution_count": 8,
     "metadata": {},
     "output_type": "execute_result"
    }
   ],
   "source": [
    "span[4]"
   ]
  },
  {
   "cell_type": "markdown",
   "id": "fac6bb12",
   "metadata": {},
   "source": [
    "## id로 검색"
   ]
  },
  {
   "cell_type": "code",
   "execution_count": 11,
   "id": "b06870ce",
   "metadata": {},
   "outputs": [
    {
     "data": {
      "text/plain": [
       "(bs4.element.ResultSet, [])"
      ]
     },
     "execution_count": 11,
     "metadata": {},
     "output_type": "execute_result"
    }
   ],
   "source": [
    "fruits = soup.select('fruits1')\n",
    "type(fruits), fruits"
   ]
  },
  {
   "cell_type": "code",
   "execution_count": 12,
   "id": "fa930405",
   "metadata": {},
   "outputs": [
    {
     "data": {
      "text/plain": [
       "(bs4.element.ResultSet,\n",
       " [<p class=\"fruits\" id=\"fruits1\">\n",
       "  <span class=\"name\"> 바나나 </span>\n",
       "  <span class=\"price\"> 3000원 </span>\n",
       "  <span class=\"inventory\"> 500개 </span>\n",
       "  <span class=\"store\"> 가나다상회 </span>\n",
       "  <a href=\"http://bit.ly/forPlaywithData\"> 홈페이지 </a>\n",
       "  </p>])"
      ]
     },
     "execution_count": 12,
     "metadata": {},
     "output_type": "execute_result"
    }
   ],
   "source": [
    "fruits = soup.select('#fruits1')\n",
    "type(fruits), fruits"
   ]
  },
  {
   "cell_type": "code",
   "execution_count": 13,
   "id": "44ec25c8",
   "metadata": {},
   "outputs": [
    {
     "data": {
      "text/plain": [
       "1"
      ]
     },
     "execution_count": 13,
     "metadata": {},
     "output_type": "execute_result"
    }
   ],
   "source": [
    "len(fruits)"
   ]
  },
  {
   "cell_type": "markdown",
   "id": "35309a29",
   "metadata": {},
   "source": [
    "## class로 검색"
   ]
  },
  {
   "cell_type": "code",
   "execution_count": 14,
   "id": "d5b0fead",
   "metadata": {},
   "outputs": [
    {
     "data": {
      "text/plain": [
       "(bs4.element.ResultSet, [<span class=\"inventory\"> 500개 </span>])"
      ]
     },
     "execution_count": 14,
     "metadata": {},
     "output_type": "execute_result"
    }
   ],
   "source": [
    "result = soup.select('.inventory');\n",
    "type(result), result"
   ]
  },
  {
   "cell_type": "code",
   "execution_count": 15,
   "id": "1fd8b4b8",
   "metadata": {},
   "outputs": [
    {
     "data": {
      "text/plain": [
       "1"
      ]
     },
     "execution_count": 15,
     "metadata": {},
     "output_type": "execute_result"
    }
   ],
   "source": [
    "len(result)"
   ]
  },
  {
   "cell_type": "markdown",
   "id": "8e515f2d",
   "metadata": {},
   "source": [
    "## tag와 class 함께 검색"
   ]
  },
  {
   "cell_type": "code",
   "execution_count": 16,
   "id": "5dfd1698",
   "metadata": {},
   "outputs": [
    {
     "data": {
      "text/plain": [
       "(bs4.element.ResultSet, [<span class=\"price\"> 3000원 </span>])"
      ]
     },
     "execution_count": 16,
     "metadata": {},
     "output_type": "execute_result"
    }
   ],
   "source": [
    "result = soup.select('span.price');\n",
    "type(result), result"
   ]
  },
  {
   "cell_type": "code",
   "execution_count": 17,
   "id": "8d50a098",
   "metadata": {},
   "outputs": [
    {
     "data": {
      "text/plain": [
       "1"
      ]
     },
     "execution_count": 17,
     "metadata": {},
     "output_type": "execute_result"
    }
   ],
   "source": [
    "len(result)"
   ]
  },
  {
   "cell_type": "markdown",
   "id": "8943c8eb",
   "metadata": {},
   "source": [
    "## 특정 상위 폴더를 포함하여 검색"
   ]
  },
  {
   "cell_type": "code",
   "execution_count": 18,
   "id": "6e6f85cf",
   "metadata": {},
   "outputs": [
    {
     "data": {
      "text/plain": [
       "(bs4.element.ResultSet, [<span class=\"name\"> 바나나 </span>])"
      ]
     },
     "execution_count": 18,
     "metadata": {},
     "output_type": "execute_result"
    }
   ],
   "source": [
    "result = soup.select('p#fruits1 > span.name');\n",
    "type(result), result"
   ]
  },
  {
   "cell_type": "code",
   "execution_count": 19,
   "id": "74276871",
   "metadata": {},
   "outputs": [
    {
     "data": {
      "text/plain": [
       "1"
      ]
     },
     "execution_count": 19,
     "metadata": {},
     "output_type": "execute_result"
    }
   ],
   "source": [
    "len(result)"
   ]
  },
  {
   "cell_type": "code",
   "execution_count": 20,
   "id": "fbfad307",
   "metadata": {},
   "outputs": [
    {
     "data": {
      "text/plain": [
       "(bs4.element.ResultSet, [<span class=\"name\"> 바나나 </span>])"
      ]
     },
     "execution_count": 20,
     "metadata": {},
     "output_type": "execute_result"
    }
   ],
   "source": [
    "result = soup.select('div.sale > p.fruits > span.name');\n",
    "type(result), result"
   ]
  },
  {
   "cell_type": "markdown",
   "id": "2cf9d294",
   "metadata": {},
   "source": [
    "## 공백 제거\n",
    "html은 기본적으로 공백이 많다. 따라서 없애줘야함!!"
   ]
  },
  {
   "cell_type": "code",
   "execution_count": 21,
   "id": "ec2eb052",
   "metadata": {},
   "outputs": [
    {
     "name": "stdout",
     "output_type": "stream",
     "text": [
      "<span class=\"name\"> 바나나 </span>\n",
      "<span class=\"name\"> 파인애플 </span>\n"
     ]
    }
   ],
   "source": [
    "result = soup.select('.name')\n",
    "for tag in result :\n",
    "    print(tag)"
   ]
  },
  {
   "cell_type": "code",
   "execution_count": 22,
   "id": "e10ef5f4",
   "metadata": {},
   "outputs": [],
   "source": [
    "s = result[0].text"
   ]
  },
  {
   "cell_type": "code",
   "execution_count": 23,
   "id": "05b5c07f",
   "metadata": {},
   "outputs": [
    {
     "data": {
      "text/plain": [
       "'바나나'"
      ]
     },
     "execution_count": 23,
     "metadata": {},
     "output_type": "execute_result"
    }
   ],
   "source": [
    "s.strip()"
   ]
  },
  {
   "cell_type": "code",
   "execution_count": 24,
   "id": "72c1d8b2",
   "metadata": {},
   "outputs": [
    {
     "data": {
      "text/plain": [
       "'바나나'"
      ]
     },
     "execution_count": 24,
     "metadata": {},
     "output_type": "execute_result"
    }
   ],
   "source": [
    "result[0].text.strip()"
   ]
  },
  {
   "cell_type": "code",
   "execution_count": 26,
   "id": "4d90d210",
   "metadata": {},
   "outputs": [
    {
     "data": {
      "text/plain": [
       "(['name'], 'name')"
      ]
     },
     "execution_count": 26,
     "metadata": {},
     "output_type": "execute_result"
    }
   ],
   "source": [
    "# class 명 출력(리스트 형태)\n",
    "cls = result[0]['class']\n",
    "cls, cls[0]"
   ]
  },
  {
   "cell_type": "code",
   "execution_count": 27,
   "id": "4f219f4a",
   "metadata": {},
   "outputs": [
    {
     "data": {
      "text/plain": [
       "'name'"
      ]
     },
     "execution_count": 27,
     "metadata": {},
     "output_type": "execute_result"
    }
   ],
   "source": [
    "result[0]['class'][0]"
   ]
  },
  {
   "cell_type": "code",
   "execution_count": 28,
   "id": "60fa44a0",
   "metadata": {},
   "outputs": [
    {
     "name": "stdout",
     "output_type": "stream",
     "text": [
      "바나나 ['name']\n",
      "파인애플 ['name']\n"
     ]
    }
   ],
   "source": [
    "for tag in result :\n",
    "    s = tag.text.strip()\n",
    "    print(s, tag['class'])"
   ]
  },
  {
   "cell_type": "code",
   "execution_count": null,
   "id": "dd17c2a1",
   "metadata": {},
   "outputs": [],
   "source": []
  }
 ],
 "metadata": {
  "kernelspec": {
   "display_name": "Python 3",
   "language": "python",
   "name": "python3"
  },
  "language_info": {
   "codemirror_mode": {
    "name": "ipython",
    "version": 3
   },
   "file_extension": ".py",
   "mimetype": "text/x-python",
   "name": "python",
   "nbconvert_exporter": "python",
   "pygments_lexer": "ipython3",
   "version": "3.6.4"
  }
 },
 "nbformat": 4,
 "nbformat_minor": 5
}
