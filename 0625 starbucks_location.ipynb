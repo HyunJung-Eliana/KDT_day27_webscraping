{
 "cells": [
  {
   "cell_type": "markdown",
   "id": "8a2ac79b",
   "metadata": {},
   "source": [
    "# 클릭해야만 페이지 접속이 가능한 형태"
   ]
  },
  {
   "cell_type": "code",
   "execution_count": 1,
   "id": "5363eebc",
   "metadata": {},
   "outputs": [],
   "source": [
    "from selenium import webdriver"
   ]
  },
  {
   "cell_type": "code",
   "execution_count": 2,
   "id": "ecd99b19",
   "metadata": {},
   "outputs": [],
   "source": [
    "browser = webdriver.Chrome('./chromedriver.exe')"
   ]
  },
  {
   "cell_type": "code",
   "execution_count": 3,
   "id": "3242bf1c",
   "metadata": {},
   "outputs": [],
   "source": [
    "browser.get('https://www.starbucks.co.kr/store/store_map.do?disp=locale')"
   ]
  },
  {
   "cell_type": "code",
   "execution_count": 4,
   "id": "1c1fab28",
   "metadata": {},
   "outputs": [],
   "source": [
    "import time\n",
    "time.sleep(5)\n",
    "browser.find_element_by_css_selector('ul.sido_arae_box > li > a[data-sidocd=\"01\"]').click()"
   ]
  },
  {
   "cell_type": "code",
   "execution_count": 5,
   "id": "f22e9425",
   "metadata": {},
   "outputs": [],
   "source": [
    "time.sleep(5)\n",
    "browser.find_element_by_css_selector('ul > li > a[href*=\"0\"][data-guguncd=\"\"]').click()"
   ]
  },
  {
   "cell_type": "code",
   "execution_count": 6,
   "id": "3d8bbfda",
   "metadata": {},
   "outputs": [],
   "source": [
    "from bs4 import BeautifulSoup"
   ]
  },
  {
   "cell_type": "code",
   "execution_count": 7,
   "id": "2e3cc0ff",
   "metadata": {},
   "outputs": [],
   "source": [
    "soup = BeautifulSoup(browser.page_source, 'html.parser')"
   ]
  },
  {
   "cell_type": "code",
   "execution_count": 8,
   "id": "55b7c763",
   "metadata": {},
   "outputs": [
    {
     "data": {
      "text/plain": [
       "553"
      ]
     },
     "execution_count": 8,
     "metadata": {},
     "output_type": "execute_result"
    }
   ],
   "source": [
    "starbucks = soup.select('ul > li.quickResultLstCon')\n",
    "len(starbucks)"
   ]
  },
  {
   "cell_type": "code",
   "execution_count": 9,
   "id": "d65185bf",
   "metadata": {},
   "outputs": [
    {
     "data": {
      "text/plain": [
       "<li class=\"quickResultLstCon\" data-code=\"3762\" data-hlytag=\"null\" data-index=\"0\" data-lat=\"37.501087\" data-long=\"127.043069\" data-name=\"역삼아레나빌딩\" data-storecd=\"1509\" style=\"background:#fff\"> <strong data-my_siren_order_store_yn=\"N\" data-name=\"역삼아레나빌딩\" data-store=\"1509\" data-yn=\"N\">역삼아레나빌딩  </strong> <p class=\"result_details\">서울특별시 강남구 언주로 425 (역삼동)<br/>1522-3232</p> <i class=\"pin_general\">리저브 매장 2번</i></li>"
      ]
     },
     "execution_count": 9,
     "metadata": {},
     "output_type": "execute_result"
    }
   ],
   "source": [
    "starbucks[0]"
   ]
  },
  {
   "cell_type": "code",
   "execution_count": 10,
   "id": "c54c8a9b",
   "metadata": {},
   "outputs": [
    {
     "data": {
      "text/plain": [
       "'37.501087'"
      ]
     },
     "execution_count": 10,
     "metadata": {},
     "output_type": "execute_result"
    }
   ],
   "source": [
    "starbucks[0]['data-lat']"
   ]
  },
  {
   "cell_type": "code",
   "execution_count": 19,
   "id": "d65e8fbc",
   "metadata": {},
   "outputs": [
    {
     "data": {
      "text/plain": [
       "'역삼아레나빌딩'"
      ]
     },
     "execution_count": 19,
     "metadata": {},
     "output_type": "execute_result"
    }
   ],
   "source": [
    "starbucks[0].select('strong')[0].text.strip()"
   ]
  },
  {
   "cell_type": "code",
   "execution_count": 25,
   "id": "cecfba93",
   "metadata": {},
   "outputs": [
    {
     "data": {
      "text/plain": [
       "<p class=\"result_details\">서울특별시 강남구 언주로 425 (역삼동)<br/>1522-3232</p>"
      ]
     },
     "execution_count": 25,
     "metadata": {},
     "output_type": "execute_result"
    }
   ],
   "source": [
    "starbucks[0].select('p.result_details')[0]"
   ]
  },
  {
   "cell_type": "code",
   "execution_count": 32,
   "id": "1bd7c52e",
   "metadata": {},
   "outputs": [
    {
     "data": {
      "text/plain": [
       "<p class=\"result_details\">서울특별시 강남구 언주로 425 (역삼동)<br/>1522-3232</p>"
      ]
     },
     "execution_count": 32,
     "metadata": {},
     "output_type": "execute_result"
    }
   ],
   "source": [
    "starbucks[0].select('p.result_details')[0]"
   ]
  },
  {
   "cell_type": "code",
   "execution_count": null,
   "id": "881c1bde",
   "metadata": {},
   "outputs": [],
   "source": []
  }
 ],
 "metadata": {
  "kernelspec": {
   "display_name": "Python 3",
   "language": "python",
   "name": "python3"
  },
  "language_info": {
   "codemirror_mode": {
    "name": "ipython",
    "version": 3
   },
   "file_extension": ".py",
   "mimetype": "text/x-python",
   "name": "python",
   "nbconvert_exporter": "python",
   "pygments_lexer": "ipython3",
   "version": "3.6.4"
  }
 },
 "nbformat": 4,
 "nbformat_minor": 5
}
